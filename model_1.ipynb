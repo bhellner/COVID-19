{
 "cells": [
  {
   "cell_type": "code",
   "execution_count": 1,
   "metadata": {},
   "outputs": [],
   "source": [
    "#importing the libraries\n",
    "import pandas as pd\n",
    "import numpy as np\n",
    "import matplotlib.pyplot as plt\n",
    "import seaborn as sns\n",
    "import datetime \n",
    "%matplotlib inline\n",
    "import geopandas as gpd\n",
    "\n",
    "from matplotlib.dates import DateFormatter\n",
    "import matplotlib.dates as mdates"
   ]
  },
  {
   "cell_type": "code",
   "execution_count": 2,
   "metadata": {},
   "outputs": [],
   "source": [
    "#importing the data\n",
    "df = pd.read_csv('covid_19_data.csv')"
   ]
  },
  {
   "cell_type": "code",
   "execution_count": 3,
   "metadata": {},
   "outputs": [
    {
     "data": {
      "text/html": [
       "<div>\n",
       "<style scoped>\n",
       "    .dataframe tbody tr th:only-of-type {\n",
       "        vertical-align: middle;\n",
       "    }\n",
       "\n",
       "    .dataframe tbody tr th {\n",
       "        vertical-align: top;\n",
       "    }\n",
       "\n",
       "    .dataframe thead th {\n",
       "        text-align: right;\n",
       "    }\n",
       "</style>\n",
       "<table border=\"1\" class=\"dataframe\">\n",
       "  <thead>\n",
       "    <tr style=\"text-align: right;\">\n",
       "      <th></th>\n",
       "      <th>SNo</th>\n",
       "      <th>ObservationDate</th>\n",
       "      <th>Province/State</th>\n",
       "      <th>Country/Region</th>\n",
       "      <th>Last Update</th>\n",
       "      <th>Confirmed</th>\n",
       "      <th>Deaths</th>\n",
       "      <th>Recovered</th>\n",
       "    </tr>\n",
       "  </thead>\n",
       "  <tbody>\n",
       "    <tr>\n",
       "      <th>0</th>\n",
       "      <td>1</td>\n",
       "      <td>01/22/2020</td>\n",
       "      <td>Anhui</td>\n",
       "      <td>Mainland China</td>\n",
       "      <td>1/22/2020 17:00</td>\n",
       "      <td>1.0</td>\n",
       "      <td>0.0</td>\n",
       "      <td>0.0</td>\n",
       "    </tr>\n",
       "    <tr>\n",
       "      <th>1</th>\n",
       "      <td>2</td>\n",
       "      <td>01/22/2020</td>\n",
       "      <td>Beijing</td>\n",
       "      <td>Mainland China</td>\n",
       "      <td>1/22/2020 17:00</td>\n",
       "      <td>14.0</td>\n",
       "      <td>0.0</td>\n",
       "      <td>0.0</td>\n",
       "    </tr>\n",
       "    <tr>\n",
       "      <th>2</th>\n",
       "      <td>3</td>\n",
       "      <td>01/22/2020</td>\n",
       "      <td>Chongqing</td>\n",
       "      <td>Mainland China</td>\n",
       "      <td>1/22/2020 17:00</td>\n",
       "      <td>6.0</td>\n",
       "      <td>0.0</td>\n",
       "      <td>0.0</td>\n",
       "    </tr>\n",
       "    <tr>\n",
       "      <th>3</th>\n",
       "      <td>4</td>\n",
       "      <td>01/22/2020</td>\n",
       "      <td>Fujian</td>\n",
       "      <td>Mainland China</td>\n",
       "      <td>1/22/2020 17:00</td>\n",
       "      <td>1.0</td>\n",
       "      <td>0.0</td>\n",
       "      <td>0.0</td>\n",
       "    </tr>\n",
       "    <tr>\n",
       "      <th>4</th>\n",
       "      <td>5</td>\n",
       "      <td>01/22/2020</td>\n",
       "      <td>Gansu</td>\n",
       "      <td>Mainland China</td>\n",
       "      <td>1/22/2020 17:00</td>\n",
       "      <td>0.0</td>\n",
       "      <td>0.0</td>\n",
       "      <td>0.0</td>\n",
       "    </tr>\n",
       "  </tbody>\n",
       "</table>\n",
       "</div>"
      ],
      "text/plain": [
       "   SNo ObservationDate Province/State  Country/Region      Last Update  \\\n",
       "0    1      01/22/2020          Anhui  Mainland China  1/22/2020 17:00   \n",
       "1    2      01/22/2020        Beijing  Mainland China  1/22/2020 17:00   \n",
       "2    3      01/22/2020      Chongqing  Mainland China  1/22/2020 17:00   \n",
       "3    4      01/22/2020         Fujian  Mainland China  1/22/2020 17:00   \n",
       "4    5      01/22/2020          Gansu  Mainland China  1/22/2020 17:00   \n",
       "\n",
       "   Confirmed  Deaths  Recovered  \n",
       "0        1.0     0.0        0.0  \n",
       "1       14.0     0.0        0.0  \n",
       "2        6.0     0.0        0.0  \n",
       "3        1.0     0.0        0.0  \n",
       "4        0.0     0.0        0.0  "
      ]
     },
     "execution_count": 3,
     "metadata": {},
     "output_type": "execute_result"
    }
   ],
   "source": [
    "df.head()"
   ]
  },
  {
   "cell_type": "code",
   "execution_count": 4,
   "metadata": {},
   "outputs": [
    {
     "name": "stdout",
     "output_type": "stream",
     "text": [
      "<class 'pandas.core.frame.DataFrame'>\n",
      "RangeIndex: 9117 entries, 0 to 9116\n",
      "Data columns (total 8 columns):\n",
      "SNo                9117 non-null int64\n",
      "ObservationDate    9117 non-null object\n",
      "Province/State     5029 non-null object\n",
      "Country/Region     9117 non-null object\n",
      "Last Update        9117 non-null object\n",
      "Confirmed          9117 non-null float64\n",
      "Deaths             9117 non-null float64\n",
      "Recovered          9117 non-null float64\n",
      "dtypes: float64(3), int64(1), object(4)\n",
      "memory usage: 569.9+ KB\n"
     ]
    }
   ],
   "source": [
    "df.info()"
   ]
  },
  {
   "cell_type": "code",
   "execution_count": 5,
   "metadata": {},
   "outputs": [],
   "source": [
    "df['Total_confirmed']= df['Confirmed'].cumsum()\n",
    "df['Total_Deaths']= df['Deaths'].cumsum()\n",
    "df['Total_Recovered']= df['Recovered'].cumsum()"
   ]
  },
  {
   "cell_type": "code",
   "execution_count": 6,
   "metadata": {},
   "outputs": [
    {
     "data": {
      "text/html": [
       "<div>\n",
       "<style scoped>\n",
       "    .dataframe tbody tr th:only-of-type {\n",
       "        vertical-align: middle;\n",
       "    }\n",
       "\n",
       "    .dataframe tbody tr th {\n",
       "        vertical-align: top;\n",
       "    }\n",
       "\n",
       "    .dataframe thead th {\n",
       "        text-align: right;\n",
       "    }\n",
       "</style>\n",
       "<table border=\"1\" class=\"dataframe\">\n",
       "  <thead>\n",
       "    <tr style=\"text-align: right;\">\n",
       "      <th></th>\n",
       "      <th>SNo</th>\n",
       "      <th>ObservationDate</th>\n",
       "      <th>Province/State</th>\n",
       "      <th>Country/Region</th>\n",
       "      <th>Last Update</th>\n",
       "      <th>Confirmed</th>\n",
       "      <th>Deaths</th>\n",
       "      <th>Recovered</th>\n",
       "      <th>Total_confirmed</th>\n",
       "      <th>Total_Deaths</th>\n",
       "      <th>Total_Recovered</th>\n",
       "    </tr>\n",
       "  </thead>\n",
       "  <tbody>\n",
       "    <tr>\n",
       "      <th>9107</th>\n",
       "      <td>9108</td>\n",
       "      <td>03/26/2020</td>\n",
       "      <td>Virginia</td>\n",
       "      <td>US</td>\n",
       "      <td>2020-03-26 23:53:24</td>\n",
       "      <td>466.0</td>\n",
       "      <td>10.0</td>\n",
       "      <td>0.0</td>\n",
       "      <td>6985334.0</td>\n",
       "      <td>262328.0</td>\n",
       "      <td>2325865.0</td>\n",
       "    </tr>\n",
       "    <tr>\n",
       "      <th>9108</th>\n",
       "      <td>9109</td>\n",
       "      <td>03/26/2020</td>\n",
       "      <td>Washington</td>\n",
       "      <td>US</td>\n",
       "      <td>2020-03-26 23:53:24</td>\n",
       "      <td>3207.0</td>\n",
       "      <td>150.0</td>\n",
       "      <td>0.0</td>\n",
       "      <td>6988541.0</td>\n",
       "      <td>262478.0</td>\n",
       "      <td>2325865.0</td>\n",
       "    </tr>\n",
       "    <tr>\n",
       "      <th>9109</th>\n",
       "      <td>9110</td>\n",
       "      <td>03/26/2020</td>\n",
       "      <td>West Virginia</td>\n",
       "      <td>US</td>\n",
       "      <td>2020-03-26 23:53:24</td>\n",
       "      <td>52.0</td>\n",
       "      <td>0.0</td>\n",
       "      <td>0.0</td>\n",
       "      <td>6988593.0</td>\n",
       "      <td>262478.0</td>\n",
       "      <td>2325865.0</td>\n",
       "    </tr>\n",
       "    <tr>\n",
       "      <th>9110</th>\n",
       "      <td>9111</td>\n",
       "      <td>03/26/2020</td>\n",
       "      <td>Western Australia</td>\n",
       "      <td>Australia</td>\n",
       "      <td>2020-03-26 23:53:24</td>\n",
       "      <td>231.0</td>\n",
       "      <td>2.0</td>\n",
       "      <td>1.0</td>\n",
       "      <td>6988824.0</td>\n",
       "      <td>262480.0</td>\n",
       "      <td>2325866.0</td>\n",
       "    </tr>\n",
       "    <tr>\n",
       "      <th>9111</th>\n",
       "      <td>9112</td>\n",
       "      <td>03/26/2020</td>\n",
       "      <td>Wisconsin</td>\n",
       "      <td>US</td>\n",
       "      <td>2020-03-26 23:53:24</td>\n",
       "      <td>728.0</td>\n",
       "      <td>10.0</td>\n",
       "      <td>0.0</td>\n",
       "      <td>6989552.0</td>\n",
       "      <td>262490.0</td>\n",
       "      <td>2325866.0</td>\n",
       "    </tr>\n",
       "    <tr>\n",
       "      <th>9112</th>\n",
       "      <td>9113</td>\n",
       "      <td>03/26/2020</td>\n",
       "      <td>Wyoming</td>\n",
       "      <td>US</td>\n",
       "      <td>2020-03-26 23:53:24</td>\n",
       "      <td>53.0</td>\n",
       "      <td>0.0</td>\n",
       "      <td>0.0</td>\n",
       "      <td>6989605.0</td>\n",
       "      <td>262490.0</td>\n",
       "      <td>2325866.0</td>\n",
       "    </tr>\n",
       "    <tr>\n",
       "      <th>9113</th>\n",
       "      <td>9114</td>\n",
       "      <td>03/26/2020</td>\n",
       "      <td>Xinjiang</td>\n",
       "      <td>Mainland China</td>\n",
       "      <td>2020-03-26 23:53:24</td>\n",
       "      <td>76.0</td>\n",
       "      <td>3.0</td>\n",
       "      <td>73.0</td>\n",
       "      <td>6989681.0</td>\n",
       "      <td>262493.0</td>\n",
       "      <td>2325939.0</td>\n",
       "    </tr>\n",
       "    <tr>\n",
       "      <th>9114</th>\n",
       "      <td>9115</td>\n",
       "      <td>03/26/2020</td>\n",
       "      <td>Yukon</td>\n",
       "      <td>Canada</td>\n",
       "      <td>2020-03-26 23:53:24</td>\n",
       "      <td>3.0</td>\n",
       "      <td>0.0</td>\n",
       "      <td>0.0</td>\n",
       "      <td>6989684.0</td>\n",
       "      <td>262493.0</td>\n",
       "      <td>2325939.0</td>\n",
       "    </tr>\n",
       "    <tr>\n",
       "      <th>9115</th>\n",
       "      <td>9116</td>\n",
       "      <td>03/26/2020</td>\n",
       "      <td>Yunnan</td>\n",
       "      <td>Mainland China</td>\n",
       "      <td>2020-03-26 23:53:24</td>\n",
       "      <td>178.0</td>\n",
       "      <td>2.0</td>\n",
       "      <td>172.0</td>\n",
       "      <td>6989862.0</td>\n",
       "      <td>262495.0</td>\n",
       "      <td>2326111.0</td>\n",
       "    </tr>\n",
       "    <tr>\n",
       "      <th>9116</th>\n",
       "      <td>9117</td>\n",
       "      <td>03/26/2020</td>\n",
       "      <td>Zhejiang</td>\n",
       "      <td>Mainland China</td>\n",
       "      <td>2020-03-26 23:53:24</td>\n",
       "      <td>1243.0</td>\n",
       "      <td>1.0</td>\n",
       "      <td>1222.0</td>\n",
       "      <td>6991105.0</td>\n",
       "      <td>262496.0</td>\n",
       "      <td>2327333.0</td>\n",
       "    </tr>\n",
       "  </tbody>\n",
       "</table>\n",
       "</div>"
      ],
      "text/plain": [
       "       SNo ObservationDate     Province/State  Country/Region  \\\n",
       "9107  9108      03/26/2020           Virginia              US   \n",
       "9108  9109      03/26/2020         Washington              US   \n",
       "9109  9110      03/26/2020      West Virginia              US   \n",
       "9110  9111      03/26/2020  Western Australia       Australia   \n",
       "9111  9112      03/26/2020          Wisconsin              US   \n",
       "9112  9113      03/26/2020            Wyoming              US   \n",
       "9113  9114      03/26/2020           Xinjiang  Mainland China   \n",
       "9114  9115      03/26/2020              Yukon          Canada   \n",
       "9115  9116      03/26/2020             Yunnan  Mainland China   \n",
       "9116  9117      03/26/2020           Zhejiang  Mainland China   \n",
       "\n",
       "              Last Update  Confirmed  Deaths  Recovered  Total_confirmed  \\\n",
       "9107  2020-03-26 23:53:24      466.0    10.0        0.0        6985334.0   \n",
       "9108  2020-03-26 23:53:24     3207.0   150.0        0.0        6988541.0   \n",
       "9109  2020-03-26 23:53:24       52.0     0.0        0.0        6988593.0   \n",
       "9110  2020-03-26 23:53:24      231.0     2.0        1.0        6988824.0   \n",
       "9111  2020-03-26 23:53:24      728.0    10.0        0.0        6989552.0   \n",
       "9112  2020-03-26 23:53:24       53.0     0.0        0.0        6989605.0   \n",
       "9113  2020-03-26 23:53:24       76.0     3.0       73.0        6989681.0   \n",
       "9114  2020-03-26 23:53:24        3.0     0.0        0.0        6989684.0   \n",
       "9115  2020-03-26 23:53:24      178.0     2.0      172.0        6989862.0   \n",
       "9116  2020-03-26 23:53:24     1243.0     1.0     1222.0        6991105.0   \n",
       "\n",
       "      Total_Deaths  Total_Recovered  \n",
       "9107      262328.0        2325865.0  \n",
       "9108      262478.0        2325865.0  \n",
       "9109      262478.0        2325865.0  \n",
       "9110      262480.0        2325866.0  \n",
       "9111      262490.0        2325866.0  \n",
       "9112      262490.0        2325866.0  \n",
       "9113      262493.0        2325939.0  \n",
       "9114      262493.0        2325939.0  \n",
       "9115      262495.0        2326111.0  \n",
       "9116      262496.0        2327333.0  "
      ]
     },
     "execution_count": 6,
     "metadata": {},
     "output_type": "execute_result"
    }
   ],
   "source": [
    "df.tail(10)"
   ]
  },
  {
   "cell_type": "code",
   "execution_count": 7,
   "metadata": {},
   "outputs": [],
   "source": [
    "#want to remove double date points so combine the data of those frames\n",
    "df['ObservationDate'] = pd.to_datetime(df['ObservationDate'])"
   ]
  },
  {
   "cell_type": "code",
   "execution_count": 8,
   "metadata": {},
   "outputs": [
    {
     "name": "stdout",
     "output_type": "stream",
     "text": [
      "<class 'pandas.core.frame.DataFrame'>\n",
      "RangeIndex: 9117 entries, 0 to 9116\n",
      "Data columns (total 11 columns):\n",
      "SNo                9117 non-null int64\n",
      "ObservationDate    9117 non-null datetime64[ns]\n",
      "Province/State     5029 non-null object\n",
      "Country/Region     9117 non-null object\n",
      "Last Update        9117 non-null object\n",
      "Confirmed          9117 non-null float64\n",
      "Deaths             9117 non-null float64\n",
      "Recovered          9117 non-null float64\n",
      "Total_confirmed    9117 non-null float64\n",
      "Total_Deaths       9117 non-null float64\n",
      "Total_Recovered    9117 non-null float64\n",
      "dtypes: datetime64[ns](1), float64(6), int64(1), object(3)\n",
      "memory usage: 783.6+ KB\n"
     ]
    }
   ],
   "source": [
    "df.info()"
   ]
  },
  {
   "cell_type": "code",
   "execution_count": 9,
   "metadata": {},
   "outputs": [],
   "source": [
    "#df['Observation Day'] = df['ObservationDate'].dt.day"
   ]
  },
  {
   "cell_type": "code",
   "execution_count": 10,
   "metadata": {},
   "outputs": [],
   "source": [
    "#df.head()"
   ]
  },
  {
   "cell_type": "code",
   "execution_count": 11,
   "metadata": {},
   "outputs": [
    {
     "name": "stderr",
     "output_type": "stream",
     "text": [
      "/Users/Brittney/anaconda3/lib/python3.7/site-packages/pandas/plotting/_converter.py:129: FutureWarning: Using an implicitly registered datetime converter for a matplotlib plotting method. The converter was registered by pandas on import. Future versions of pandas will require you to explicitly register matplotlib converters.\n",
      "\n",
      "To register the converters:\n",
      "\t>>> from pandas.plotting import register_matplotlib_converters\n",
      "\t>>> register_matplotlib_converters()\n",
      "  warnings.warn(msg, FutureWarning)\n"
     ]
    },
    {
     "data": {
      "image/png": "[encoded data removed]",
      "text/plain": [
       "<Figure size 720x720 with 1 Axes>"
      ]
     },
     "metadata": {
      "needs_background": "light"
     },
     "output_type": "display_data"
    }
   ],
   "source": [
    "x_1 = df['ObservationDate']\n",
    "y_1 = df['Total_confirmed']\n",
    "\n",
    "x_2 = df['ObservationDate']\n",
    "y_2 = df['Total_Deaths']\n",
    "\n",
    "x_3 = df['ObservationDate']\n",
    "y_3 = df['Total_Recovered']\n",
    "\n",
    "#x_points_1 = pd.to_datetime(x_1)\n",
    "#x_points_2 = pd.to_datetime(x_2)\n",
    "#x_points_3 = pd.to_datetime(x_3)\n",
    "\n",
    "fig, ax = plt.subplots(figsize=(10, 10))\n",
    "ax.scatter(x_1,y_1)\n",
    "ax.scatter(x_2,y_2)\n",
    "ax.scatter(x_3,y_3)\n",
    "\n",
    "ax.set(xlabel=\"Date\",\n",
    "       ylabel=\"Amount of Cases\",\n",
    "       title=\"Coronavirus cases in Mainland China\")\n",
    "ax.legend(('Total Confirmed','Total Deaths','Total Recovered'))\n",
    "\n",
    "# rotate and align the tick labels so they look better\n",
    "fig.autofmt_xdate()\n",
    "plt.xlim([datetime.date(2020, 1, 15), datetime.date(2020, 3, 29)])\n",
    "\n",
    "# Define the date format\n",
    "date_form = DateFormatter(\"%m-%d-%y\")\n",
    "ax.xaxis.set_major_formatter(date_form)\n",
    "\n",
    "# Ensure a major tick for each week using (interval=1) \n",
    "ax.xaxis.set_major_locator(mdates.WeekdayLocator(interval=1))\n",
    "\n",
    "\n",
    "plt.show()"
   ]
  },
  {
   "cell_type": "code",
   "execution_count": 12,
   "metadata": {},
   "outputs": [],
   "source": [
    "df['Date']=df['ObservationDate'].map(datetime.datetime.toordinal)\n",
    "df['Number_Date'] = (1 + df['Date'] - df['Date'].min())\n",
    "\n",
    "#df['Observation Day'] = df['ObservationDate'].dt.day\n",
    "#df['Observation Week'] = df['ObservationDate'].dt.week"
   ]
  },
  {
   "cell_type": "code",
   "execution_count": 30,
   "metadata": {},
   "outputs": [
    {
     "data": {
      "text/html": [
       "<div>\n",
       "<style scoped>\n",
       "    .dataframe tbody tr th:only-of-type {\n",
       "        vertical-align: middle;\n",
       "    }\n",
       "\n",
       "    .dataframe tbody tr th {\n",
       "        vertical-align: top;\n",
       "    }\n",
       "\n",
       "    .dataframe thead th {\n",
       "        text-align: right;\n",
       "    }\n",
       "</style>\n",
       "<table border=\"1\" class=\"dataframe\">\n",
       "  <thead>\n",
       "    <tr style=\"text-align: right;\">\n",
       "      <th></th>\n",
       "      <th>SNo</th>\n",
       "      <th>ObservationDate</th>\n",
       "      <th>Province/State</th>\n",
       "      <th>Country/Region</th>\n",
       "      <th>Last Update</th>\n",
       "      <th>Confirmed</th>\n",
       "      <th>Deaths</th>\n",
       "      <th>Recovered</th>\n",
       "      <th>Total_confirmed</th>\n",
       "      <th>Total_Deaths</th>\n",
       "      <th>Total_Recovered</th>\n",
       "      <th>Date</th>\n",
       "      <th>Number_Date</th>\n",
       "      <th>recovered/confirmed</th>\n",
       "      <th>death/confirmed</th>\n",
       "    </tr>\n",
       "  </thead>\n",
       "  <tbody>\n",
       "    <tr>\n",
       "      <th>9112</th>\n",
       "      <td>9113</td>\n",
       "      <td>2020-03-26</td>\n",
       "      <td>Wyoming</td>\n",
       "      <td>US</td>\n",
       "      <td>2020-03-26 23:53:24</td>\n",
       "      <td>53.0</td>\n",
       "      <td>0.0</td>\n",
       "      <td>0.0</td>\n",
       "      <td>6989605.0</td>\n",
       "      <td>262490.0</td>\n",
       "      <td>2325866.0</td>\n",
       "      <td>737510</td>\n",
       "      <td>65</td>\n",
       "      <td>33.276072</td>\n",
       "      <td>3.755434</td>\n",
       "    </tr>\n",
       "    <tr>\n",
       "      <th>9113</th>\n",
       "      <td>9114</td>\n",
       "      <td>2020-03-26</td>\n",
       "      <td>Xinjiang</td>\n",
       "      <td>Mainland China</td>\n",
       "      <td>2020-03-26 23:53:24</td>\n",
       "      <td>76.0</td>\n",
       "      <td>3.0</td>\n",
       "      <td>73.0</td>\n",
       "      <td>6989681.0</td>\n",
       "      <td>262493.0</td>\n",
       "      <td>2325939.0</td>\n",
       "      <td>737510</td>\n",
       "      <td>65</td>\n",
       "      <td>33.276755</td>\n",
       "      <td>3.755436</td>\n",
       "    </tr>\n",
       "    <tr>\n",
       "      <th>9114</th>\n",
       "      <td>9115</td>\n",
       "      <td>2020-03-26</td>\n",
       "      <td>Yukon</td>\n",
       "      <td>Canada</td>\n",
       "      <td>2020-03-26 23:53:24</td>\n",
       "      <td>3.0</td>\n",
       "      <td>0.0</td>\n",
       "      <td>0.0</td>\n",
       "      <td>6989684.0</td>\n",
       "      <td>262493.0</td>\n",
       "      <td>2325939.0</td>\n",
       "      <td>737510</td>\n",
       "      <td>65</td>\n",
       "      <td>33.276740</td>\n",
       "      <td>3.755434</td>\n",
       "    </tr>\n",
       "    <tr>\n",
       "      <th>9115</th>\n",
       "      <td>9116</td>\n",
       "      <td>2020-03-26</td>\n",
       "      <td>Yunnan</td>\n",
       "      <td>Mainland China</td>\n",
       "      <td>2020-03-26 23:53:24</td>\n",
       "      <td>178.0</td>\n",
       "      <td>2.0</td>\n",
       "      <td>172.0</td>\n",
       "      <td>6989862.0</td>\n",
       "      <td>262495.0</td>\n",
       "      <td>2326111.0</td>\n",
       "      <td>737510</td>\n",
       "      <td>65</td>\n",
       "      <td>33.278354</td>\n",
       "      <td>3.755367</td>\n",
       "    </tr>\n",
       "    <tr>\n",
       "      <th>9116</th>\n",
       "      <td>9117</td>\n",
       "      <td>2020-03-26</td>\n",
       "      <td>Zhejiang</td>\n",
       "      <td>Mainland China</td>\n",
       "      <td>2020-03-26 23:53:24</td>\n",
       "      <td>1243.0</td>\n",
       "      <td>1.0</td>\n",
       "      <td>1222.0</td>\n",
       "      <td>6991105.0</td>\n",
       "      <td>262496.0</td>\n",
       "      <td>2327333.0</td>\n",
       "      <td>737510</td>\n",
       "      <td>65</td>\n",
       "      <td>33.289916</td>\n",
       "      <td>3.754714</td>\n",
       "    </tr>\n",
       "  </tbody>\n",
       "</table>\n",
       "</div>"
      ],
      "text/plain": [
       "       SNo ObservationDate Province/State  Country/Region  \\\n",
       "9112  9113      2020-03-26        Wyoming              US   \n",
       "9113  9114      2020-03-26       Xinjiang  Mainland China   \n",
       "9114  9115      2020-03-26          Yukon          Canada   \n",
       "9115  9116      2020-03-26         Yunnan  Mainland China   \n",
       "9116  9117      2020-03-26       Zhejiang  Mainland China   \n",
       "\n",
       "              Last Update  Confirmed  Deaths  Recovered  Total_confirmed  \\\n",
       "9112  2020-03-26 23:53:24       53.0     0.0        0.0        6989605.0   \n",
       "9113  2020-03-26 23:53:24       76.0     3.0       73.0        6989681.0   \n",
       "9114  2020-03-26 23:53:24        3.0     0.0        0.0        6989684.0   \n",
       "9115  2020-03-26 23:53:24      178.0     2.0      172.0        6989862.0   \n",
       "9116  2020-03-26 23:53:24     1243.0     1.0     1222.0        6991105.0   \n",
       "\n",
       "      Total_Deaths  Total_Recovered    Date  Number_Date  recovered/confirmed  \\\n",
       "9112      262490.0        2325866.0  737510           65            33.276072   \n",
       "9113      262493.0        2325939.0  737510           65            33.276755   \n",
       "9114      262493.0        2325939.0  737510           65            33.276740   \n",
       "9115      262495.0        2326111.0  737510           65            33.278354   \n",
       "9116      262496.0        2327333.0  737510           65            33.289916   \n",
       "\n",
       "      death/confirmed  \n",
       "9112         3.755434  \n",
       "9113         3.755436  \n",
       "9114         3.755434  \n",
       "9115         3.755367  \n",
       "9116         3.754714  "
      ]
     },
     "execution_count": 30,
     "metadata": {},
     "output_type": "execute_result"
    }
   ],
   "source": [
    "df.tail()"
   ]
  },
  {
   "cell_type": "code",
   "execution_count": 26,
   "metadata": {
    "scrolled": true
   },
   "outputs": [
    {
     "data": {
      "image/png": "[encoded data removed]",
      "text/plain": [
       "<Figure size 360x360 with 1 Axes>"
      ]
     },
     "metadata": {
      "needs_background": "light"
     },
     "output_type": "display_data"
    }
   ],
   "source": [
    "x_1 = df['Number_Date']\n",
    "y_1 = df['Total_confirmed']\n",
    "\n",
    "x_2 = df['Number_Date']\n",
    "y_2 = df['Total_Deaths']\n",
    "\n",
    "x_3 = df['Number_Date']\n",
    "y_3 = df['Total_Recovered']\n",
    "\n",
    "fig, ax = plt.subplots(figsize=(5, 5))\n",
    "ax.scatter(x_1,y_1)\n",
    "ax.scatter(x_2,y_2)\n",
    "ax.scatter(x_3,y_3)\n",
    "\n",
    "ax.set(xlabel=\"Date\",\n",
    "       ylabel=\"Amount of Cases\",\n",
    "       title=\"Coronavirus cases\")\n",
    "ax.legend(('Total Confirmed','Total Deaths','Total Recovered'))\n",
    "plt.show()"
   ]
  },
  {
   "cell_type": "code",
   "execution_count": 64,
   "metadata": {},
   "outputs": [
    {
     "data": {
      "image/png": "[encoded data removed]",
      "text/plain": [
       "<Figure size 432x288 with 1 Axes>"
      ]
     },
     "metadata": {
      "needs_background": "light"
     },
     "output_type": "display_data"
    }
   ],
   "source": [
    "#model 1 prediction of total confirmed cases\n",
    "#make the data frame for the model \n",
    "X = df[['Number_Date']]\n",
    "y = df[['Total_confirmed']]\n",
    "\n",
    "from sklearn.model_selection import train_test_split\n",
    "X_train, X_test, y_train, y_test = train_test_split(X, y, test_size = 0.2, random_state = 0)\n",
    "\n",
    "from sklearn.linear_model import LinearRegression\n",
    "lm = LinearRegression()\n",
    "\n",
    "from sklearn.preprocessing import PolynomialFeatures\n",
    "poly_reg = PolynomialFeatures(degree = 5)\n",
    "X_poly = poly_reg.fit_transform(X)\n",
    "poly_reg.fit(X_poly, y)\n",
    "lin_reg_2 = LinearRegression()\n",
    "lin_reg_2.fit(X_poly, y)\n",
    "predictions = lin_reg_2.predict(poly_reg.fit_transform(X))\n",
    "\n",
    "#plotting model and fit\n",
    "plt.scatter(X, y, color = 'red')\n",
    "plt.plot(X, lin_reg_2.predict(poly_reg.fit_transform(X)), color = 'blue')\n",
    "plt.title('Polynomial Regression')\n",
    "plt.xlabel('Days of Outbreak')\n",
    "plt.ylabel('Confirmed Cases')\n",
    "plt.show()"
   ]
  },
  {
   "cell_type": "code",
   "execution_count": 67,
   "metadata": {},
   "outputs": [
    {
     "data": {
      "image/png": "[encoded data removed]",
      "text/plain": [
       "<Figure size 432x288 with 1 Axes>"
      ]
     },
     "metadata": {
      "needs_background": "light"
     },
     "output_type": "display_data"
    }
   ],
   "source": [
    "#adding new predicted data points from using model 1\n",
    "x_new = np.array([66,67,68,69,70,71,72,73,74,75])\n",
    "predict_newdata = lin_reg_2.predict(poly_reg.fit_transform(x_new.reshape(-1,1)))\n",
    "\n",
    "#plotting model and fit\n",
    "plt.scatter(X, y, color = 'red')\n",
    "plt.scatter(x_new,predict_newdata,color = 'green')\n",
    "plt.plot(X, lin_reg_2.predict(poly_reg.fit_transform(X)), color = 'blue')\n",
    "plt.ylim(0,14000000)\n",
    "plt.title('Polynomial Regression')\n",
    "plt.xlabel('Days of Outbreak')\n",
    "plt.ylabel('Confirmed Cases')\n",
    "plt.show()"
   ]
  },
  {
   "cell_type": "code",
   "execution_count": 28,
   "metadata": {},
   "outputs": [
    {
     "data": {
      "image/png": "[encoded data removed]",
      "text/plain": [
       "<Figure size 432x288 with 1 Axes>"
      ]
     },
     "metadata": {
      "needs_background": "light"
     },
     "output_type": "display_data"
    }
   ],
   "source": [
    "#make the data frame for the model \n",
    "X = df[['Number_Date']]\n",
    "y = df[['Total_Deaths']]\n",
    "\n",
    "from sklearn.model_selection import train_test_split\n",
    "X_train, X_test, y_train, y_test = train_test_split(X, y, test_size = 0.2, random_state = 0)\n",
    "\n",
    "from sklearn.linear_model import LinearRegression\n",
    "lm = LinearRegression()\n",
    "\n",
    "from sklearn.preprocessing import PolynomialFeatures\n",
    "poly_reg = PolynomialFeatures(degree = 5)\n",
    "X_poly = poly_reg.fit_transform(X)\n",
    "poly_reg.fit(X_poly, y)\n",
    "lin_reg_2 = LinearRegression()\n",
    "lin_reg_2.fit(X_poly, y)\n",
    "\n",
    "#plotting model and fit\n",
    "plt.scatter(X, y, color = 'red')\n",
    "plt.plot(X, lin_reg_2.predict(poly_reg.fit_transform(X)), color = 'blue')\n",
    "plt.title('Polynomial Regression')\n",
    "plt.xlabel('Days of Outbreak')\n",
    "plt.ylabel('Deaths')\n",
    "plt.show()"
   ]
  },
  {
   "cell_type": "code",
   "execution_count": null,
   "metadata": {},
   "outputs": [],
   "source": []
  },
  {
   "cell_type": "code",
   "execution_count": null,
   "metadata": {},
   "outputs": [],
   "source": []
  },
  {
   "cell_type": "code",
   "execution_count": 21,
   "metadata": {},
   "outputs": [],
   "source": [
    "#ratio of recovered (recovered/confirmed) and ratio of death (death/confirmed)\n",
    "df['recovered/confirmed'] = df['Total_Recovered']/df['Total_confirmed'] *100\n",
    "df['death/confirmed'] = df['Total_Deaths']/df['Total_confirmed'] *100"
   ]
  },
  {
   "cell_type": "code",
   "execution_count": 27,
   "metadata": {},
   "outputs": [
    {
     "data": {
      "image/png": "[encoded data removed]",
      "text/plain": [
       "<Figure size 360x360 with 1 Axes>"
      ]
     },
     "metadata": {
      "needs_background": "light"
     },
     "output_type": "display_data"
    }
   ],
   "source": [
    "x_1 = df['Number_Date']\n",
    "y_1 = df['recovered/confirmed']\n",
    "\n",
    "x_2 = df['Number_Date']\n",
    "y_2 = df['death/confirmed']\n",
    "\n",
    "fig, ax = plt.subplots(figsize=(5, 5))\n",
    "ax.scatter(x_1,y_1)\n",
    "ax.scatter(x_2,y_2)\n",
    "\n",
    "\n",
    "ax.set(xlabel=\"Date\",\n",
    "       ylabel=\"Ratio\",\n",
    "       title=\"Coronavirus\")\n",
    "ax.legend(('recovered/confirmed','death/confirmed'))\n",
    "plt.show()"
   ]
  },
  {
   "cell_type": "code",
   "execution_count": null,
   "metadata": {},
   "outputs": [],
   "source": []
  }
 ],
 "metadata": {
  "kernelspec": {
   "display_name": "Python 3",
   "language": "python",
   "name": "python3"
  },
  "language_info": {
   "codemirror_mode": {
    "name": "ipython",
    "version": 3
   },
   "file_extension": ".py",
   "mimetype": "text/x-python",
   "name": "python",
   "nbconvert_exporter": "python",
   "pygments_lexer": "ipython3",
   "version": "3.7.3"
  }
 },
 "nbformat": 4,
 "nbformat_minor": 2
}
